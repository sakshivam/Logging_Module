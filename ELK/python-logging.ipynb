{
 "cells": [
  {
   "cell_type": "code",
   "execution_count": 1,
   "id": "46a7dcf4-12e7-449b-a7f6-08cc2a0f9406",
   "metadata": {},
   "outputs": [
    {
     "ename": "ModuleNotFoundError",
     "evalue": "No module named 'logstash_async'",
     "output_type": "error",
     "traceback": [
      "\u001b[1;31m---------------------------------------------------------------------------\u001b[0m",
      "\u001b[1;31mModuleNotFoundError\u001b[0m                       Traceback (most recent call last)",
      "Cell \u001b[1;32mIn [1], line 2\u001b[0m\n\u001b[0;32m      1\u001b[0m \u001b[38;5;28;01mimport\u001b[39;00m \u001b[38;5;21;01mlogging\u001b[39;00m\n\u001b[1;32m----> 2\u001b[0m \u001b[38;5;28;01mfrom\u001b[39;00m \u001b[38;5;21;01mlogstash_async\u001b[39;00m\u001b[38;5;21;01m.\u001b[39;00m\u001b[38;5;21;01mhandler\u001b[39;00m \u001b[38;5;28;01mimport\u001b[39;00m AsynchronousLogstashHandler\n\u001b[0;32m      3\u001b[0m host \u001b[38;5;241m=\u001b[39m \u001b[38;5;124m'\u001b[39m\u001b[38;5;124mlocalhost\u001b[39m\u001b[38;5;124m'\u001b[39m\n\u001b[0;32m      4\u001b[0m port \u001b[38;5;241m=\u001b[39m \u001b[38;5;241m50000\u001b[39m\n",
      "\u001b[1;31mModuleNotFoundError\u001b[0m: No module named 'logstash_async'"
     ]
    }
   ],
   "source": [
    "import logging\n",
    "from logstash_async.handler import AsynchronousLogstashHandler\n",
    "host = 'localhost'\n",
    "port = 50000\n",
    "# Get you a test logger\n",
    "test_logger = logging.getLogger('python-logstash-logger')\n",
    "# Set it to whatever level you want - default will be info\n",
    "test_logger.setLevel(logging.DEBUG)\n",
    "# Create a handler for it\n",
    "async_handler = AsynchronousLogstashHandler(host, port, database_path=None)\n",
    "# Add the handler to the logger\n",
    "test_logger.addHandler(async_handler)"
   ]
  },
  {
   "cell_type": "code",
   "execution_count": null,
   "id": "79701ecb-1cb7-4ee4-a499-e1061418dd94",
   "metadata": {},
   "outputs": [],
   "source": [
    "import time\n",
    "while True:\n",
    "    test_logger.info(\"This is an info message at %s\", time.time())\n",
    "    time.sleep(0.5)"
   ]
  },
  {
   "cell_type": "code",
   "execution_count": null,
   "id": "fffb8914-edd7-488d-a524-ac049c22ae04",
   "metadata": {},
   "outputs": [],
   "source": []
  }
 ],
 "metadata": {
  "kernelspec": {
   "display_name": "Python 3 (ipykernel)",
   "language": "python",
   "name": "python3"
  },
  "language_info": {
   "codemirror_mode": {
    "name": "ipython",
    "version": 3
   },
   "file_extension": ".py",
   "mimetype": "text/x-python",
   "name": "python",
   "nbconvert_exporter": "python",
   "pygments_lexer": "ipython3",
   "version": "3.10.5"
  }
 },
 "nbformat": 4,
 "nbformat_minor": 5
}
